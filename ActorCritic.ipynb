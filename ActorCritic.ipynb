{
  "nbformat": 4,
  "nbformat_minor": 0,
  "metadata": {
    "colab": {
      "name": "ActorCritic.ipynb",
      "provenance": [],
      "collapsed_sections": [],
      "authorship_tag": "ABX9TyPBmVW4sZgqiky8tRA+zGaB",
      "include_colab_link": true
    },
    "kernelspec": {
      "name": "python3",
      "display_name": "Python 3"
    },
    "accelerator": "GPU"
  },
  "cells": [
    {
      "cell_type": "markdown",
      "metadata": {
        "id": "view-in-github",
        "colab_type": "text"
      },
      "source": [
        "<a href=\"https://colab.research.google.com/github/abhisheksuran/Atari_DQN/blob/master/ActorCritic.ipynb\" target=\"_parent\"><img src=\"https://colab.research.google.com/assets/colab-badge.svg\" alt=\"Open In Colab\"/></a>"
      ]
    },
    {
      "cell_type": "code",
      "metadata": {
        "id": "udtLxTQyiNUz",
        "colab_type": "code",
        "colab": {}
      },
      "source": [
        "import numpy as np\n",
        "import tensorflow as tf \n",
        "import gym\n",
        "import tensorflow_probability as tfp"
      ],
      "execution_count": null,
      "outputs": []
    },
    {
      "cell_type": "code",
      "metadata": {
        "id": "nfKWiIG6m5Ed",
        "colab_type": "code",
        "colab": {
          "base_uri": "https://localhost:8080/",
          "height": 102
        },
        "outputId": "f772d2e2-420f-4723-c669-81690045112e"
      },
      "source": [
        "!pip3 install box2d-py"
      ],
      "execution_count": null,
      "outputs": [
        {
          "output_type": "stream",
          "text": [
            "Collecting box2d-py\n",
            "\u001b[?25l  Downloading https://files.pythonhosted.org/packages/06/bd/6cdc3fd994b0649dcf5d9bad85bd9e26172308bbe9a421bfc6fdbf5081a6/box2d_py-2.3.8-cp36-cp36m-manylinux1_x86_64.whl (448kB)\n",
            "\r\u001b[K     |▊                               | 10kB 18.3MB/s eta 0:00:01\r\u001b[K     |█▌                              | 20kB 3.8MB/s eta 0:00:01\r\u001b[K     |██▏                             | 30kB 4.9MB/s eta 0:00:01\r\u001b[K     |███                             | 40kB 5.1MB/s eta 0:00:01\r\u001b[K     |███▋                            | 51kB 5.1MB/s eta 0:00:01\r\u001b[K     |████▍                           | 61kB 5.8MB/s eta 0:00:01\r\u001b[K     |█████▏                          | 71kB 6.0MB/s eta 0:00:01\r\u001b[K     |█████▉                          | 81kB 6.0MB/s eta 0:00:01\r\u001b[K     |██████▋                         | 92kB 6.1MB/s eta 0:00:01\r\u001b[K     |███████▎                        | 102kB 6.2MB/s eta 0:00:01\r\u001b[K     |████████                        | 112kB 6.2MB/s eta 0:00:01\r\u001b[K     |████████▊                       | 122kB 6.2MB/s eta 0:00:01\r\u001b[K     |█████████▌                      | 133kB 6.2MB/s eta 0:00:01\r\u001b[K     |██████████▎                     | 143kB 6.2MB/s eta 0:00:01\r\u001b[K     |███████████                     | 153kB 6.2MB/s eta 0:00:01\r\u001b[K     |███████████▊                    | 163kB 6.2MB/s eta 0:00:01\r\u001b[K     |████████████▍                   | 174kB 6.2MB/s eta 0:00:01\r\u001b[K     |█████████████▏                  | 184kB 6.2MB/s eta 0:00:01\r\u001b[K     |█████████████▉                  | 194kB 6.2MB/s eta 0:00:01\r\u001b[K     |██████████████▋                 | 204kB 6.2MB/s eta 0:00:01\r\u001b[K     |███████████████▍                | 215kB 6.2MB/s eta 0:00:01\r\u001b[K     |████████████████                | 225kB 6.2MB/s eta 0:00:01\r\u001b[K     |████████████████▉               | 235kB 6.2MB/s eta 0:00:01\r\u001b[K     |█████████████████▌              | 245kB 6.2MB/s eta 0:00:01\r\u001b[K     |██████████████████▎             | 256kB 6.2MB/s eta 0:00:01\r\u001b[K     |███████████████████             | 266kB 6.2MB/s eta 0:00:01\r\u001b[K     |███████████████████▊            | 276kB 6.2MB/s eta 0:00:01\r\u001b[K     |████████████████████▌           | 286kB 6.2MB/s eta 0:00:01\r\u001b[K     |█████████████████████▏          | 296kB 6.2MB/s eta 0:00:01\r\u001b[K     |██████████████████████          | 307kB 6.2MB/s eta 0:00:01\r\u001b[K     |██████████████████████▋         | 317kB 6.2MB/s eta 0:00:01\r\u001b[K     |███████████████████████▍        | 327kB 6.2MB/s eta 0:00:01\r\u001b[K     |████████████████████████        | 337kB 6.2MB/s eta 0:00:01\r\u001b[K     |████████████████████████▉       | 348kB 6.2MB/s eta 0:00:01\r\u001b[K     |█████████████████████████▋      | 358kB 6.2MB/s eta 0:00:01\r\u001b[K     |██████████████████████████▎     | 368kB 6.2MB/s eta 0:00:01\r\u001b[K     |███████████████████████████     | 378kB 6.2MB/s eta 0:00:01\r\u001b[K     |███████████████████████████▊    | 389kB 6.2MB/s eta 0:00:01\r\u001b[K     |████████████████████████████▌   | 399kB 6.2MB/s eta 0:00:01\r\u001b[K     |█████████████████████████████▏  | 409kB 6.2MB/s eta 0:00:01\r\u001b[K     |██████████████████████████████  | 419kB 6.2MB/s eta 0:00:01\r\u001b[K     |██████████████████████████████▊ | 430kB 6.2MB/s eta 0:00:01\r\u001b[K     |███████████████████████████████▍| 440kB 6.2MB/s eta 0:00:01\r\u001b[K     |████████████████████████████████| 450kB 6.2MB/s \n",
            "\u001b[?25hInstalling collected packages: box2d-py\n",
            "Successfully installed box2d-py-2.3.8\n"
          ],
          "name": "stdout"
        }
      ]
    },
    {
      "cell_type": "code",
      "metadata": {
        "id": "4X3S4uD_m-e_",
        "colab_type": "code",
        "colab": {}
      },
      "source": [
        "env= gym.make(\"LunarLander-v2\")\n",
        "low = env.observation_space.low\n",
        "high = env.observation_space.high"
      ],
      "execution_count": null,
      "outputs": []
    },
    {
      "cell_type": "code",
      "metadata": {
        "id": "pAZ_YRduimE0",
        "colab_type": "code",
        "colab": {}
      },
      "source": [
        "class critic(tf.keras.Model):\n",
        "  def __init__(self):\n",
        "    super().__init__()\n",
        "    self.d1 = tf.keras.layers.Dense(2048,activation='relu')\n",
        "    self.d2 = tf.keras.layers.Dense(1536,activation='relu')\n",
        "    self.v = tf.keras.layers.Dense(1, activation = None)\n",
        "\n",
        "  def call(self, input_data):\n",
        "    x = self.d1(input_data)\n",
        "    x = self.d2(x)\n",
        "    v = self.v(x)\n",
        "    return v\n",
        "    \n",
        "\n",
        "class actor(tf.keras.Model):\n",
        "  def __init__(self):\n",
        "    super().__init__()\n",
        "    self.d1 = tf.keras.layers.Dense(2048,activation='relu')\n",
        "    self.d2 = tf.keras.layers.Dense(1536,activation='relu')\n",
        "    self.a = tf.keras.layers.Dense(4,activation='softmax')\n",
        "\n",
        "  def call(self, input_data):\n",
        "    x = self.d1(input_data)\n",
        "    x = self.d2(x)\n",
        "    a = self.a(x)\n",
        "    return a\n",
        "    "
      ],
      "execution_count": null,
      "outputs": []
    },
    {
      "cell_type": "code",
      "metadata": {
        "id": "D0-5_oxXmwT9",
        "colab_type": "code",
        "colab": {}
      },
      "source": [
        "class agent():\n",
        "    def __init__(self, gamma = 0.99):\n",
        "        self.gamma = gamma\n",
        "        self.a_opt = tf.keras.optimizers.Adam(learning_rate=5e-6)\n",
        "        self.c_opt = tf.keras.optimizers.Adam(learning_rate=5e-6)\n",
        "        self.actor = actor()\n",
        "        self.critic = critic()\n",
        "        self.log_prob = None\n",
        "    \n",
        "    def act(self,state):\n",
        "        prob = self.actor(np.array([state]))\n",
        "        #print(prob)\n",
        "        prob = prob.numpy()\n",
        "        dist = tfp.distributions.Categorical(probs=prob, dtype=tf.float32)\n",
        "        action = dist.sample()\n",
        "        return int(action.numpy()[0])\n",
        "        # action = np.random.choice([i for i in range(env.action_space.n)], 1, p=prob[0])\n",
        "        # log_prob = tf.math.log(prob[0][action]).numpy()\n",
        "        # self.log_prob = log_prob[0]\n",
        "        # #print(self.log_prob)\n",
        "        # return action[0]\n",
        "\n",
        "\n",
        "    def actor_loss(self, prob, action, td):\n",
        "        dist = tfp.distributions.Categorical(probs=prob, dtype=tf.float32)\n",
        "        log_prob = dist.log_prob(action)\n",
        "        loss = -log_prob*td\n",
        "        return loss\n",
        "\n",
        "\n",
        "\n",
        "    def learn(self, state, action, reward, next_state, done):\n",
        "        state = np.array([state])\n",
        "        next_state = np.array([next_state])\n",
        "        #self.gamma = tf.convert_to_tensor(0.99, dtype=tf.double)\n",
        "        #d = 1 - done\n",
        "        #d = tf.convert_to_tensor(d, dtype=tf.double)\n",
        "        with tf.GradientTape() as tape1, tf.GradientTape() as tape2:\n",
        "            p = self.actor(state, training=True)\n",
        "             \n",
        "            #p = self.actor(state, training=True).numpy()[0][action]\n",
        "            #p = tf.convert_to_tensor([[p]], dtype=tf.float32)\n",
        "            #print(p)\n",
        "            v =  self.critic(state,training=True)\n",
        "            #v = tf.dtypes.cast(v, tf.double)\n",
        "\n",
        "            vn = self.critic(next_state, training=True)\n",
        "            #vn = tf.dtypes.cast(vn, tf.double)\n",
        "            td = reward + self.gamma*vn*(1-int(done)) - v\n",
        "            #print(td)\n",
        "            #td = tf.math.subtract(tf.math.add(reward, tf.math.multiply(tf.math.multiply(self.gamma, vn), d)), v)\n",
        "            #a_loss = -self.log_prob*td\n",
        "            a_loss = self.actor_loss(p, action, td)\n",
        "            #a_loss = -tf.math.multiply(tf.math.log(p),td)\n",
        "            #a_loss = tf.keras.losses.categorical_crossentropy(td, p)\n",
        "            #a_loss = -tf.math.multiply(self.log_prob,td)\n",
        "            c_loss = td**2\n",
        "            #c_loss = tf.math.pow(td,2)\n",
        "        grads1 = tape1.gradient(a_loss, self.actor.trainable_variables)\n",
        "        grads2 = tape2.gradient(c_loss, self.critic.trainable_variables)\n",
        "        self.a_opt.apply_gradients(zip(grads1, self.actor.trainable_variables))\n",
        "        self.c_opt.apply_gradients(zip(grads2, self.critic.trainable_variables))\n",
        "        return a_loss, c_loss"
      ],
      "execution_count": null,
      "outputs": []
    },
    {
      "cell_type": "code",
      "metadata": {
        "id": "vk4Phsi1tvS-",
        "colab_type": "code",
        "colab": {}
      },
      "source": [
        "agentoo7 = agent()\n",
        "steps = 10000\n",
        "for s in range(steps):\n",
        "  \n",
        "  done = False\n",
        "  state = env.reset()\n",
        "  total_reward = 0\n",
        "  all_aloss = []\n",
        "  all_closs = []\n",
        "  \n",
        "  while not done:\n",
        "    #env.render()\n",
        "    action = agentoo7.act(state)\n",
        "    #print(action)\n",
        "    next_state, reward, done, _ = env.step(action)\n",
        "    aloss, closs = agentoo7.learn(state, action, reward, next_state, done)\n",
        "    all_aloss.append(aloss)\n",
        "    all_closs.append(closs)\n",
        "    state = next_state\n",
        "    total_reward += reward\n",
        "    \n",
        "    if done:\n",
        "      \n",
        "      #print(\"total step for this episord are {}\".format(t))\n",
        "      print(\"total reward after {} steps is {}\".format(s, total_reward))"
      ],
      "execution_count": null,
      "outputs": []
    },
    {
      "cell_type": "code",
      "metadata": {
        "id": "1ltXa0gX_Yb8",
        "colab_type": "code",
        "colab": {}
      },
      "source": [
        ""
      ],
      "execution_count": null,
      "outputs": []
    }
  ]
}